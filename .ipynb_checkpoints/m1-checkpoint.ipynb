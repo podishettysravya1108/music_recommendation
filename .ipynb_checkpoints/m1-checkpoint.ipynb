{
 "cells": [
  {
   "cell_type": "code",
   "execution_count": 3,
   "id": "9e14353d",
   "metadata": {},
   "outputs": [
    {
     "data": {
      "text/html": [
       "<div>\n",
       "<style scoped>\n",
       "    .dataframe tbody tr th:only-of-type {\n",
       "        vertical-align: middle;\n",
       "    }\n",
       "\n",
       "    .dataframe tbody tr th {\n",
       "        vertical-align: top;\n",
       "    }\n",
       "\n",
       "    .dataframe thead th {\n",
       "        text-align: right;\n",
       "    }\n",
       "</style>\n",
       "<table border=\"1\" class=\"dataframe\">\n",
       "  <thead>\n",
       "    <tr style=\"text-align: right;\">\n",
       "      <th></th>\n",
       "      <th>text</th>\n",
       "      <th>label</th>\n",
       "    </tr>\n",
       "  </thead>\n",
       "  <tbody>\n",
       "    <tr>\n",
       "      <th>0</th>\n",
       "      <td>i didnt feel humiliated</td>\n",
       "      <td>0</td>\n",
       "    </tr>\n",
       "    <tr>\n",
       "      <th>1</th>\n",
       "      <td>i can go from feeling so hopeless to so damned...</td>\n",
       "      <td>0</td>\n",
       "    </tr>\n",
       "    <tr>\n",
       "      <th>2</th>\n",
       "      <td>im grabbing a minute to post i feel greedy wrong</td>\n",
       "      <td>3</td>\n",
       "    </tr>\n",
       "    <tr>\n",
       "      <th>3</th>\n",
       "      <td>i am ever feeling nostalgic about the fireplac...</td>\n",
       "      <td>2</td>\n",
       "    </tr>\n",
       "    <tr>\n",
       "      <th>4</th>\n",
       "      <td>i am feeling grouchy</td>\n",
       "      <td>3</td>\n",
       "    </tr>\n",
       "    <tr>\n",
       "      <th>...</th>\n",
       "      <td>...</td>\n",
       "      <td>...</td>\n",
       "    </tr>\n",
       "    <tr>\n",
       "      <th>15995</th>\n",
       "      <td>i just had a very brief time in the beanbag an...</td>\n",
       "      <td>0</td>\n",
       "    </tr>\n",
       "    <tr>\n",
       "      <th>15996</th>\n",
       "      <td>i am now turning and i feel pathetic that i am...</td>\n",
       "      <td>0</td>\n",
       "    </tr>\n",
       "    <tr>\n",
       "      <th>15997</th>\n",
       "      <td>i feel strong and good overall</td>\n",
       "      <td>1</td>\n",
       "    </tr>\n",
       "    <tr>\n",
       "      <th>15998</th>\n",
       "      <td>i feel like this was such a rude comment and i...</td>\n",
       "      <td>3</td>\n",
       "    </tr>\n",
       "    <tr>\n",
       "      <th>15999</th>\n",
       "      <td>i know a lot but i feel so stupid because i ca...</td>\n",
       "      <td>0</td>\n",
       "    </tr>\n",
       "  </tbody>\n",
       "</table>\n",
       "<p>16000 rows × 2 columns</p>\n",
       "</div>"
      ],
      "text/plain": [
       "                                                    text  label\n",
       "0                                i didnt feel humiliated      0\n",
       "1      i can go from feeling so hopeless to so damned...      0\n",
       "2       im grabbing a minute to post i feel greedy wrong      3\n",
       "3      i am ever feeling nostalgic about the fireplac...      2\n",
       "4                                   i am feeling grouchy      3\n",
       "...                                                  ...    ...\n",
       "15995  i just had a very brief time in the beanbag an...      0\n",
       "15996  i am now turning and i feel pathetic that i am...      0\n",
       "15997                     i feel strong and good overall      1\n",
       "15998  i feel like this was such a rude comment and i...      3\n",
       "15999  i know a lot but i feel so stupid because i ca...      0\n",
       "\n",
       "[16000 rows x 2 columns]"
      ]
     },
     "execution_count": 3,
     "metadata": {},
     "output_type": "execute_result"
    }
   ],
   "source": [
    "import pandas as pd\n",
    "\n",
    "data = pd.read_csv('training.csv')\n",
    "data"
   ]
  },
  {
   "cell_type": "code",
   "execution_count": 4,
   "id": "fa9e55d3",
   "metadata": {},
   "outputs": [],
   "source": [
    "from sklearn.feature_extraction.text import CountVectorizer\n",
    "\n",
    "vectorizer = CountVectorizer(lowercase=True, stop_words=\"english\")\n",
    "X = vectorizer.fit_transform(data[\"text\"])"
   ]
  },
  {
   "cell_type": "code",
   "execution_count": 40,
   "id": "b2372eb4",
   "metadata": {},
   "outputs": [],
   "source": [
    "import pickle\n",
    "with open(\"vectorizer.pkl\",\"wb\") as file:\n",
    "    pickle.dump(vectorizer,file)"
   ]
  },
  {
   "cell_type": "code",
   "execution_count": 5,
   "id": "22362dcc",
   "metadata": {},
   "outputs": [],
   "source": [
    "from sklearn.model_selection import train_test_split\n",
    "\n",
    "X_train, X_test, y_train, y_test = train_test_split(X, data[\"label\"], test_size=0.2, random_state=42)\n"
   ]
  },
  {
   "cell_type": "code",
   "execution_count": 6,
   "id": "fac1d5c3",
   "metadata": {},
   "outputs": [
    {
     "data": {
      "text/html": [
       "<style>#sk-container-id-1 {color: black;}#sk-container-id-1 pre{padding: 0;}#sk-container-id-1 div.sk-toggleable {background-color: white;}#sk-container-id-1 label.sk-toggleable__label {cursor: pointer;display: block;width: 100%;margin-bottom: 0;padding: 0.3em;box-sizing: border-box;text-align: center;}#sk-container-id-1 label.sk-toggleable__label-arrow:before {content: \"▸\";float: left;margin-right: 0.25em;color: #696969;}#sk-container-id-1 label.sk-toggleable__label-arrow:hover:before {color: black;}#sk-container-id-1 div.sk-estimator:hover label.sk-toggleable__label-arrow:before {color: black;}#sk-container-id-1 div.sk-toggleable__content {max-height: 0;max-width: 0;overflow: hidden;text-align: left;background-color: #f0f8ff;}#sk-container-id-1 div.sk-toggleable__content pre {margin: 0.2em;color: black;border-radius: 0.25em;background-color: #f0f8ff;}#sk-container-id-1 input.sk-toggleable__control:checked~div.sk-toggleable__content {max-height: 200px;max-width: 100%;overflow: auto;}#sk-container-id-1 input.sk-toggleable__control:checked~label.sk-toggleable__label-arrow:before {content: \"▾\";}#sk-container-id-1 div.sk-estimator input.sk-toggleable__control:checked~label.sk-toggleable__label {background-color: #d4ebff;}#sk-container-id-1 div.sk-label input.sk-toggleable__control:checked~label.sk-toggleable__label {background-color: #d4ebff;}#sk-container-id-1 input.sk-hidden--visually {border: 0;clip: rect(1px 1px 1px 1px);clip: rect(1px, 1px, 1px, 1px);height: 1px;margin: -1px;overflow: hidden;padding: 0;position: absolute;width: 1px;}#sk-container-id-1 div.sk-estimator {font-family: monospace;background-color: #f0f8ff;border: 1px dotted black;border-radius: 0.25em;box-sizing: border-box;margin-bottom: 0.5em;}#sk-container-id-1 div.sk-estimator:hover {background-color: #d4ebff;}#sk-container-id-1 div.sk-parallel-item::after {content: \"\";width: 100%;border-bottom: 1px solid gray;flex-grow: 1;}#sk-container-id-1 div.sk-label:hover label.sk-toggleable__label {background-color: #d4ebff;}#sk-container-id-1 div.sk-serial::before {content: \"\";position: absolute;border-left: 1px solid gray;box-sizing: border-box;top: 0;bottom: 0;left: 50%;z-index: 0;}#sk-container-id-1 div.sk-serial {display: flex;flex-direction: column;align-items: center;background-color: white;padding-right: 0.2em;padding-left: 0.2em;position: relative;}#sk-container-id-1 div.sk-item {position: relative;z-index: 1;}#sk-container-id-1 div.sk-parallel {display: flex;align-items: stretch;justify-content: center;background-color: white;position: relative;}#sk-container-id-1 div.sk-item::before, #sk-container-id-1 div.sk-parallel-item::before {content: \"\";position: absolute;border-left: 1px solid gray;box-sizing: border-box;top: 0;bottom: 0;left: 50%;z-index: -1;}#sk-container-id-1 div.sk-parallel-item {display: flex;flex-direction: column;z-index: 1;position: relative;background-color: white;}#sk-container-id-1 div.sk-parallel-item:first-child::after {align-self: flex-end;width: 50%;}#sk-container-id-1 div.sk-parallel-item:last-child::after {align-self: flex-start;width: 50%;}#sk-container-id-1 div.sk-parallel-item:only-child::after {width: 0;}#sk-container-id-1 div.sk-dashed-wrapped {border: 1px dashed gray;margin: 0 0.4em 0.5em 0.4em;box-sizing: border-box;padding-bottom: 0.4em;background-color: white;}#sk-container-id-1 div.sk-label label {font-family: monospace;font-weight: bold;display: inline-block;line-height: 1.2em;}#sk-container-id-1 div.sk-label-container {text-align: center;}#sk-container-id-1 div.sk-container {/* jupyter's `normalize.less` sets `[hidden] { display: none; }` but bootstrap.min.css set `[hidden] { display: none !important; }` so we also need the `!important` here to be able to override the default hidden behavior on the sphinx rendered scikit-learn.org. See: https://github.com/scikit-learn/scikit-learn/issues/21755 */display: inline-block !important;position: relative;}#sk-container-id-1 div.sk-text-repr-fallback {display: none;}</style><div id=\"sk-container-id-1\" class=\"sk-top-container\"><div class=\"sk-text-repr-fallback\"><pre>MultinomialNB()</pre><b>In a Jupyter environment, please rerun this cell to show the HTML representation or trust the notebook. <br />On GitHub, the HTML representation is unable to render, please try loading this page with nbviewer.org.</b></div><div class=\"sk-container\" hidden><div class=\"sk-item\"><div class=\"sk-estimator sk-toggleable\"><input class=\"sk-toggleable__control sk-hidden--visually\" id=\"sk-estimator-id-1\" type=\"checkbox\" checked><label for=\"sk-estimator-id-1\" class=\"sk-toggleable__label sk-toggleable__label-arrow\">MultinomialNB</label><div class=\"sk-toggleable__content\"><pre>MultinomialNB()</pre></div></div></div></div></div>"
      ],
      "text/plain": [
       "MultinomialNB()"
      ]
     },
     "execution_count": 6,
     "metadata": {},
     "output_type": "execute_result"
    }
   ],
   "source": [
    "from sklearn.naive_bayes import MultinomialNB\n",
    "\n",
    "model = MultinomialNB()\n",
    "model.fit(X_train, y_train)\n"
   ]
  },
  {
   "cell_type": "code",
   "execution_count": 7,
   "id": "66a8f977",
   "metadata": {},
   "outputs": [
    {
     "name": "stdout",
     "output_type": "stream",
     "text": [
      "Accuracy: 0.7725\n"
     ]
    }
   ],
   "source": [
    "from sklearn.metrics import accuracy_score\n",
    "\n",
    "y_pred = model.predict(X_test)\n",
    "accuracy = accuracy_score(y_test, y_pred)\n",
    "print(f\"Accuracy: {accuracy}\")\n"
   ]
  },
  {
   "cell_type": "code",
   "execution_count": 39,
   "id": "836da48f",
   "metadata": {},
   "outputs": [],
   "source": [
    "import pickle\n",
    "with open(\"model.pkl\",\"wb\") as file:\n",
    "    pickle.dump(model,file)"
   ]
  },
  {
   "cell_type": "code",
   "execution_count": 36,
   "id": "1c9b2043",
   "metadata": {},
   "outputs": [
    {
     "data": {
      "text/plain": [
       "1"
      ]
     },
     "execution_count": 36,
     "metadata": {},
     "output_type": "execute_result"
    }
   ],
   "source": [
    "new_texts = [\"i feel strong and good overall\"]\n",
    "X_new = vectorizer.transform(new_texts)\n",
    "predictions = model.predict(X_new)\n",
    "predictions[0]"
   ]
  },
  {
   "cell_type": "code",
   "execution_count": 37,
   "id": "42c7a7d9",
   "metadata": {},
   "outputs": [],
   "source": [
    "mydict1={\n",
    "0:[\"Nee Kosam from the movie Majnu\",\"Em Sandeham Ledu from the movie Oohalu Gusagusalade\",\"Yeduta Nilichindi Choodu from the movie Vaana\",\"Oohalu Oorege Gaalanthaa from the movie Oohalu Gusagusalade\",\"Vintunnavaa from the movie Yevade Subramanyam\",\"Nee Jathaga from the movie Yevadu\",\"Kani Penchina Ma Ammake from the movie Manam\",\"Madhuram Madhuram from the movie Brindavanam\",\"Yemo Yemo from the movie Yuddham Sharanam\"\"Andamaina Anubhavam from the movie Seethamma Vakitlo Sirimalle Chettu\",\"Tum Hi Ho from the movie Aashiqui 2\",\"Channa Mereya from the movie Ae Dil Hai Mushkil\",\"Tujh Mein Rab Dikhta Hai from the movie Rab Ne Bana Di Jodi\",\"Jeene Bhi De from the movie Dil Sambhal Jaa Zara\",\"Tum Mile from the movie Tum Mile\",\"Tera Mera Rishta from the movie Awarapan\",\"Kal Ho Naa Ho from the movie Kal Ho Naa Ho\",\"Agar Tum Saath Ho from the movie Tamasha\",\"Kabira from the movie Yeh Jawaani Hai Deewani\",\"Teri Meri from the movie Bodyguard\",\"Spring Day by BTS\",\"Stigma by V (BTS)\",\"Don't Cry by The Cross\",\"Lonely by 2NE1\",\"Through the Night by IU\",\"Eyes, Nose, Lips by Taeyang\",\"You Were Beautiful by DAY6\",\"Last Dance by BIGBANG\"]\n",
    ",\n",
    "1:[\"Vachinde from Fidaa\",\"Top Lesi Poddi from Iddarammayilatho\",\"Ammadu Let's Do Kummudu from Khaidi No. 150\",\"Sir Osthara from Businessman\",\"Crazy Feeling from Nenu Sailaja\",\"Rama Rama from Srimanthudu\",\"Aa Seetadevi Navvula from Kotha Janta\",\"Super Machi from S/O Satyamurthy\",\"Pakka Local from Janatha Garage\",\"Chakori from Chakori\",\"Happy from Desi Boyz\",\"Badtameez Dil from Yeh Jawaani Hai Deewani\",\"London Thumakda from Queen\",\"Gallan Goodiyaan from Dil Dhadakne Do\",\"Bom Diggy Diggy from Sonu Ke Titu Ki Sweety\",\"Nashe Si Chadh Gayi from Befikre\",\"Kar Gayi Chull from Kapoor & Sons\",\"Gulaabo from Shaandaar\",\"Nachde Ne Saare from Baar Baar Dekho\",\"Badri Ki Dulhania from Badrinath Ki Dulhania\",\"Dope by BTS\",\"Fancy by TWICE\",\"Love Scenario by iKON\",\"TT by TWICE\",\"Spring Day by BTS\",\"Ko Ko Bop by EXO\",\"Boom Boom by SEVENTEEN\",\"Cheer Up by TWICE\",\"Boy With Luv by BTS ft. Halsey\"]\n",
    ",\n",
    "2:[\"Ee Jeevana Tarangalalo from Swathi Mutyam\",\"Patala Pallakivai from Keeravani\",\"Aakasamlo Aasala Harivillu from Nirnayam\",\"Nuvvu Nenu Janta from Gangotri\",\"Mounamelanoyi from Sagara Sangamam\",\"Priyatama Neevachata Kusalama from Prema\",\"Vintunnavaa from Ye Maaya Chesave\",\"Swarabhishekam from Swarabhishekam\",\"Kanne Pillavani from Kshana Kshanam\",\"Palukaga from Annamayya\",\"Tujh Mein Rab Dikhta Hai from Rab Ne Bana Di Jodi\",\"Tujhse Naraz Nahi Zindagi from Masoom\",\"Tera Mera Pyar Amar from Asli Naqli\",\"Dil Hai Ke Manta Nahin from Dil Hai Ke Manta Nahin\",\"Mera Dil Bhi Kitna Pagal Hai from Saajan\",\"Mere Sapno Ki Rani Kab Aayegi Tu from Aradhana\",\"Lag Jaa Gale from Woh Kaun Thi\",\"Tum Aa Gaye Ho Noor Aa Gaya Hai from Aandhi\",\"Ae Mere Humsafar from Baazigar\",\"Lag Jaa Gale from Woh Kaun Thi\",\"Spring Day by BTS\",\"Love Scenario by iKON\",\"You Are My Everything by Gummy\",\"Through the Night by IU\",\"Butterfly by BTS\",\"Last Dance by BIGBANG\",\"Don't Forget by Crush\",\"Love, ing by Ben\",\"Time Walking on Memory by Nell\",\"I Will Go to You Like the First Snow by Ailee\"],\n",
    "3:[\"Adiga Adiga from Ninnu Kori\",\"Choosi Chudangane from Chalo\" ,\"Neethone from Dhruva\",\"Nuvvante Na Navvu from Krishnagadi Veera Prema Gaadha\",\"Vachinde from Fidaa\",\"Dhaari Choodu from Krishnarjuna Yudham\",\"Chusi Chudangane from Chalo\",\"Kukka Kavali from Temper\",\"Dammu Dammu from Khaidi No. 150\",\"Nee Kallalona from Jai Lava Kusa\",\"Bolo Har Har Har from Shivaay\",\"Jungle Jungle Baat Chali Hai from The Jungle Book\",\"Kar Gayi Chull from Kapoor & Sons\",\"Dilli Wali Girlfriend from Yeh Jawaani Hai Deewani\",\"Badtameez Dil from Yeh Jawaani Hai Deewani\",\"Karuppu Nerathazhagi from Kombani\",\"Angry Mix from Mujhse Shaadi Karogi\",\"Jai Ho from Slumdog Millionaire\",\"Koi Kahe Kehta Rahe  from Dil Chahta Hai\",\"Bhaag DK Bose from Delhi Belly\", \"Break Stuff by Limp Bizkit\",\"Killing in the Name by Rage Against the Machine\",\"Before I Forget by Slipknot\",\"Down with the Sickness by Disturbed\" ,\"Last Resort by Papa Roach\",\"Break My Stride by Matthew Wilder\",\"You Oughta Know by Alanis Morissette\",\"Lose Yourself by Eminem \",\"Breakdown by Tom Petty and the Heartbreakers\" ,\"Hit the Road Jack by Ray Charles \",\"MIC Drop by BTS\" ,\"Dope by BTS\" ,\"Monsterby EXO \" ,\"Fire by 2NE1\" ,\"War of Hormone by BTs\",\"No More Dream by BTS\" ,\"Wolfby EXO\" ,\"I Am the Best by 2NE1\",\"Cypher Pt.3: Killer by BTS\",\"Mama by EXO\"],\n",
    "\n",
    "4:[\"Manasu Palike from the movie Pelli Choopulu\",\"O Cheli from the movie Nenu Local\",\"Adiga Adiga from the movie Ninnu Kori\",\"Vintunnava from the movie Ye Maaya Chesave\",\"Mari Mari from the movie Yuddham Sharanam\",\"Vasthane Vasthane from the movie Nuvvu Naku Nachav\",\"Vinnaana Vinnaana from the movie Sahasam Swasaga Sagipo\",\"Idi Kalala Vunnadhe from the movie Ye Maya Chesave\",\"Gundelothullo from the movie Geetha Govindam\",\"Vinnane Vinnane from the movie Tholi Prema\",\"Kal Ho Naa Ho from the movie Kal Ho Naa Ho\",\"Ae Mere Humsafar from the movie Baazigar\",\"Ae Zindagi Gale Laga Le from the movie Dear Zindagi\",\"Tujh Mein Rab Dikhta Hai from the movie Rab Ne Bana Di Jodi\",\"Lag Jaa Gale from the movie Woh Kaun Thi\",\"Phir Kabhi from the movie M.S. Dhoni: The Untold Story\",\"Tum Mile from the movie Tum Mile\",\"Main Yahaan Hoon from the movie Veer-Zaara\",\"Tum Jo Aaye from the movie Once Upon A Time in Mumbaai\",\"Breathe Me by Sia\",\"Mad World by Tears for Fears (covered by Gary Jules)\",\"Anxiety by Jason Isbell and the 400 Unit\",\"Let It Be by The Beatles\",\"Don't Worry, Be Happy by Bobby McFerrin\",\"Three Little Birds by Bob Marley\",\"Lean On Me by Bill Withers\",\"All of Me by John Legend\",\"With a Little Help from My Friends by The Beatles\",\"Somewhere Over the Rainbow by Israel Kamakawiwo'ole\",\"Through the Night by IU\",\"Love Scenario by iKON\",\"Spring Day by BTS\",\"You Were Beautifulby DAY6\" ,\"Every Day, Every Moment by Paul Kim\",\"Time for the Moon Night by GFRIEND\",\"Dear Name by IU\",\"Palette by IU\",\"Lonely by 2NE1\"]\n",
    "  }\n",
    "    "
   ]
  },
  {
   "cell_type": "code",
   "execution_count": 38,
   "id": "375d443a",
   "metadata": {},
   "outputs": [
    {
     "name": "stdout",
     "output_type": "stream",
     "text": [
      "Random value for 1: Happy from Desi Boyz\n"
     ]
    }
   ],
   "source": [
    "def get_random_value(key, my_dict):\n",
    "    if key in my_dict:\n",
    "        values = my_dict[key]\n",
    "        random_value = random.choice(values)\n",
    "        return random_value\n",
    "    else:\n",
    "        return \"Key not found in the dictionary\"\n",
    "\n",
    "# Example usage:\n",
    "key = predictions[0]\n",
    "random_result = get_random_value(key, mydict1)\n",
    "print(f\"Random value for {key}: {random_result}\")\n"
   ]
  },
  {
   "cell_type": "code",
   "execution_count": null,
   "id": "d1a46b49",
   "metadata": {},
   "outputs": [],
   "source": [
    "values = my_dict[key]\n",
    "random_value = random.choice(values)"
   ]
  },
  {
   "cell_type": "code",
   "execution_count": null,
   "id": "80b9d6fc",
   "metadata": {},
   "outputs": [],
   "source": []
  }
 ],
 "metadata": {
  "kernelspec": {
   "display_name": "Python 3 (ipykernel)",
   "language": "python",
   "name": "python3"
  },
  "language_info": {
   "codemirror_mode": {
    "name": "ipython",
    "version": 3
   },
   "file_extension": ".py",
   "mimetype": "text/x-python",
   "name": "python",
   "nbconvert_exporter": "python",
   "pygments_lexer": "ipython3",
   "version": "3.11.4"
  }
 },
 "nbformat": 4,
 "nbformat_minor": 5
}
